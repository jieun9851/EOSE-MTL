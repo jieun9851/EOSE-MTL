{
 "cells": [
  {
   "cell_type": "code",
   "execution_count": 1,
   "metadata": {},
   "outputs": [],
   "source": [
    "import torch\n",
    "from torch.utils.data import Dataset, DataLoader\n",
    "import gluonnlp as nlp\n",
    "from KoBERT.kobert.pytorch_kobert import get_pytorch_kobert_model\n",
    "from kobert.utils import get_tokenizer\n",
    "import numpy as np\n",
    "from tqdm import tqdm,  tqdm_notebook\n",
    "import pandas as pd\n",
    "from torch import nn\n",
    "from torchcrf import CRF\n",
    "from transformers import AdamW\n",
    "from seqeval.metrics import f1_score\n",
    "from seqeval.metrics import precision_score, recall_score, f1_score, accuracy_score, classification_report\n",
    "from torch.nn.utils.rnn import pack_padded_sequence, pad_packed_sequence"
   ]
  },
  {
   "cell_type": "code",
   "execution_count": 2,
   "metadata": {},
   "outputs": [],
   "source": [
    "epochs = 5\n",
    "num =8\n",
    "max_len = 256"
   ]
  },
  {
   "cell_type": "code",
   "execution_count": 3,
   "metadata": {},
   "outputs": [
    {
     "name": "stdout",
     "output_type": "stream",
     "text": [
      "using cached model\n",
      "using cached model\n",
      "using cached model\n"
     ]
    }
   ],
   "source": [
    "bertmodel, vocab = get_pytorch_kobert_model() # KoBERT 모델 불러오기\n",
    "tokenizer = get_tokenizer()\n",
    "tok = nlp.data.BERTSPTokenizer(tokenizer, vocab, lower=False)"
   ]
  },
  {
   "cell_type": "code",
   "execution_count": 4,
   "metadata": {},
   "outputs": [],
   "source": [
    "class KobertCRF(nn.Module):\n",
    "    \"\"\" KoBERT with CRF \"\"\"\n",
    "    def __init__(self, bert, hidden_size=768, num_classes=num, dr_rate=0.3, params=None):\n",
    "        super(KobertCRF, self).__init__()\n",
    "\n",
    "        self.bert = bert\n",
    "\n",
    "        self.dropout = nn.Dropout(dr_rate)\n",
    "        self.position_wise_ff = nn.Linear(hidden_size, num_classes)\n",
    "        self.crf = CRF(num_tags=num_classes, batch_first = True)\n",
    "        \n",
    "    def gen_attention_mask(self, token_ids, valid_length):\n",
    "        attention_mask = torch.zeros_like(token_ids)\n",
    "        for i, v in enumerate(valid_length):\n",
    "            attention_mask[i][:v] = 1\n",
    "        return attention_mask.float()\n",
    "        \n",
    "    def forward(self, input_ids, valid_length, token_type_ids=None, tags=None):\n",
    "        attention_mask = self.gen_attention_mask(input_ids, valid_length)\n",
    "\n",
    "        # outputs: (last_encoder_layer, pooled_output, attention_weight)\n",
    "        outputs = self.bert(input_ids=input_ids,\n",
    "                            token_type_ids=token_type_ids,\n",
    "                            attention_mask=attention_mask.float().to(input_ids.device))\n",
    "        last_encoder_layer = outputs[0]\n",
    "        last_encoder_layer = self.dropout(last_encoder_layer)\n",
    "        emissions = self.position_wise_ff(last_encoder_layer)\n",
    "\n",
    "        if tags is not None:\n",
    "            log_likelihood, sequence_of_tags = self.crf(emissions, tags), self.crf.decode(emissions)\n",
    "            return log_likelihood, sequence_of_tags\n",
    "        else:\n",
    "            sequence_of_tags = self.crf.decode(emissions)\n",
    "            return sequence_of_tags"
   ]
  },
  {
   "cell_type": "code",
   "execution_count": 5,
   "metadata": {},
   "outputs": [],
   "source": [
    "label_dict = {'O': 0,\n",
    " 'UNK':1,\n",
    " 'PDT-B': 2,\n",
    " 'PDT-I': 3,\n",
    " 'MOV-B': 4,\n",
    " 'MOV-I': 5,\n",
    " 'TRV-B': 6,\n",
    " 'TRV-I': 7}"
   ]
  },
  {
   "cell_type": "code",
   "execution_count": 6,
   "metadata": {},
   "outputs": [
    {
     "data": {
      "text/plain": [
       "(18390, 18390, 4599, 4599)"
      ]
     },
     "execution_count": 6,
     "metadata": {},
     "output_type": "execute_result"
    }
   ],
   "source": [
    "train_list_csv = pd.read_csv('train_data.tsv',delimiter='\\t')\n",
    "test_list_csv = pd.read_csv('test_data.tsv',delimiter='\\t')\n",
    "\n",
    "train_list_csv = train_list_csv.dropna(axis=0)\n",
    "test_list_csv = test_list_csv.dropna(axis=0)\n",
    "\n",
    "train_list_csv = train_list_csv.reset_index(drop=True)\n",
    "test_list_csv = test_list_csv.reset_index(drop=True)\n",
    "\n",
    "for i in range(len(train_list_csv['label'])):\n",
    "    train_list_csv['label'][i] = train_list_csv['label'][i][1:-1].replace('\\'','').replace(' ','').split(\",\")\n",
    "for i in range(len(test_list_csv['label'])):\n",
    "    test_list_csv['label'][i] = test_list_csv['label'][i][1:-1].replace('\\'','').replace(' ','').split(\",\")\n",
    "\n",
    "\n",
    "for i in range(len(train_list_csv['label'])):\n",
    "    text_split = train_list_csv['text'][i].split()\n",
    "    ex_label = []\n",
    "    for j in range(len(train_list_csv['label'][i])):\n",
    "        ex_label.append(label_dict[train_list_csv['label'][i][j]])\n",
    "    train_list_csv['label'][i]=ex_label\n",
    "\n",
    "for i in range(len(test_list_csv['label'])):\n",
    "    text_split = test_list_csv['text'][i].split()\n",
    "    ex_label = []\n",
    "    for j in range(len(test_list_csv['label'][i])):\n",
    "        ex_label.append(label_dict[test_list_csv['label'][i][j]])\n",
    "    test_list_csv['label'][i]=ex_label\n",
    "\n",
    "tr_tag = train_list_csv['label']\n",
    "tr_sent = train_list_csv['text']\n",
    "ts_tag = test_list_csv['label']\n",
    "ts_sent = test_list_csv['text']\n",
    "\n",
    "len(tr_tag), len(tr_sent), len(ts_tag), len(ts_sent)"
   ]
  },
  {
   "cell_type": "code",
   "execution_count": 7,
   "metadata": {},
   "outputs": [
    {
     "data": {
      "text/plain": [
       "(18029, 18029, 4514, 4514)"
      ]
     },
     "execution_count": 7,
     "metadata": {},
     "output_type": "execute_result"
    }
   ],
   "source": [
    "for i in range(len(tr_tag)):\n",
    "    if len(tr_tag[i]) > max_len or len(tr_sent[i]) > max_len: # 문장의 길이가 512가 넘는 문장 제거\n",
    "        del tr_sent[i]\n",
    "        del tr_tag[i]\n",
    "\n",
    "for i in range(len(ts_tag)):\n",
    "    if len(ts_tag[i]) > max_len or len(ts_sent[i]) > max_len: # 문장의 길이가 512가 넘는 문장 제거\n",
    "        del ts_sent[i]\n",
    "        del ts_tag[i]\n",
    "\n",
    "tr_sent = tr_sent.reset_index(drop=True)\n",
    "tr_tag = tr_tag.reset_index(drop=True)\n",
    "\n",
    "ts_sent = ts_sent.reset_index(drop=True)\n",
    "ts_tag = ts_tag.reset_index(drop=True)\n",
    "\n",
    "len(tr_tag), len(tr_sent), len(ts_tag), len(ts_sent)"
   ]
  },
  {
   "cell_type": "code",
   "execution_count": 8,
   "metadata": {},
   "outputs": [],
   "source": [
    "def make_label_token(sent, label):\n",
    "    label_list = [1]\n",
    "    sent_split = sent.split()\n",
    "    for i in range(len(sent_split)):\n",
    "        sent_tok = tok(sent_split[i])\n",
    "        if label[i] !=0 and label[i]%2==0:\n",
    "            label_list.append(label[i])\n",
    "            for j in sent_tok[1:]:\n",
    "                label_list.append(label[i]+1)\n",
    "        else: \n",
    "            for j in sent_tok:\n",
    "                label_list.append(label[i])\n",
    "    label_list.append(1)\n",
    "    \n",
    "    return label_list"
   ]
  },
  {
   "cell_type": "code",
   "execution_count": 9,
   "metadata": {},
   "outputs": [
    {
     "data": {
      "text/plain": [
       "(18029, 18029, 4514, 4514)"
      ]
     },
     "execution_count": 9,
     "metadata": {},
     "output_type": "execute_result"
    }
   ],
   "source": [
    "tr_label = []\n",
    "ts_label = []\n",
    "\n",
    "for i,j in zip(tr_sent, tr_tag):\n",
    "    tr_label.append(make_label_token(i,j))\n",
    "\n",
    "for i,j in zip(ts_sent, ts_tag):\n",
    "    ts_label.append(make_label_token(i,j))\n",
    "\n",
    "len(tr_label), len(tr_sent), len(ts_label), len(ts_sent)"
   ]
  },
  {
   "cell_type": "code",
   "execution_count": 10,
   "metadata": {},
   "outputs": [
    {
     "data": {
      "text/plain": [
       "(18029, 18029, 4514, 4514)"
      ]
     },
     "execution_count": 10,
     "metadata": {},
     "output_type": "execute_result"
    }
   ],
   "source": [
    "for i in range(len(tr_label)):\n",
    "    padding_length = max_len - len(tr_label[i])\n",
    "    tr_label[i] = np.array(tr_label[i] + ([1] * padding_length))\n",
    "    tr_label[i] =tr_label[i].astype(np.int64) \n",
    "\n",
    "for i in range(len(ts_label)):\n",
    "    padding_length = max_len - len(ts_label[i])\n",
    "    ts_label[i] = np.array(ts_label[i] + ([1] * padding_length))\n",
    "    ts_label[i] =ts_label[i].astype(np.int64) \n",
    "\n",
    "len(tr_label), len(tr_sent), len(ts_label), len(ts_sent)"
   ]
  },
  {
   "cell_type": "code",
   "execution_count": 11,
   "metadata": {},
   "outputs": [],
   "source": [
    "class BERTDataset(Dataset):\n",
    "    def __init__(self, sent, tag, bert_tokenizer, max_len,\n",
    "                pad, pair):\n",
    "        transform = nlp.data.BERTSentenceTransform(bert_tokenizer, max_len, pad=pad, pair=pair)\n",
    "        self.sentences = [transform([i]) for i in sent] #문장\n",
    "        self.labels = tag\n",
    "\n",
    "    def __getitem__(self, i):\n",
    "        return (self.sentences[i] + (self.labels[i], ))\n",
    "\n",
    "    def __len__(self):\n",
    "        return (len(self.labels))"
   ]
  },
  {
   "cell_type": "code",
   "execution_count": 12,
   "metadata": {},
   "outputs": [],
   "source": [
    "train_data = pd.DataFrame([tr_sent.tolist(),tr_label]).T\n",
    "test_data =  pd.DataFrame([ts_sent.tolist(),ts_label]).T"
   ]
  },
  {
   "cell_type": "code",
   "execution_count": 13,
   "metadata": {},
   "outputs": [],
   "source": [
    "data_train = BERTDataset(tr_sent,tr_label, tok, max_len, True, False)\n",
    "data_test = BERTDataset(ts_sent,ts_label, tok, max_len, True, False)"
   ]
  },
  {
   "cell_type": "code",
   "execution_count": 14,
   "metadata": {},
   "outputs": [],
   "source": [
    "train_loader = DataLoader(data_train, batch_size=16, shuffle=True)\n",
    "test_loader = DataLoader(data_test, batch_size=16, shuffle=True)"
   ]
  },
  {
   "cell_type": "code",
   "execution_count": 15,
   "metadata": {},
   "outputs": [],
   "source": [
    "def count_len(list):\n",
    "    count = 0\n",
    "    for i in range(len(list)):\n",
    "        if list[i] == 1:\n",
    "            break\n",
    "        else:\n",
    "            count += 1\n",
    "    return count"
   ]
  },
  {
   "cell_type": "code",
   "execution_count": null,
   "metadata": {},
   "outputs": [],
   "source": [
    "data_tr_count = 0\n",
    "data_ts_count = 0\n",
    "for i in tqdm_notebook(range(len(data_train))): \n",
    "    if count_len(data_train[i][0]) != count_len(data_train[i][3][1:])+2:\n",
    "        data_tr_count += 1\n",
    "        print(i)\n",
    "\n",
    "for i in tqdm_notebook(range(len(data_test))):\n",
    "    if count_len(data_test[i][0]) != count_len(data_test[i][3][1:])+2:\n",
    "        data_ts_count += 1\n",
    "        print(i)\n",
    "print(data_tr_count, data_ts_count)"
   ]
  },
  {
   "cell_type": "code",
   "execution_count": 17,
   "metadata": {},
   "outputs": [
    {
     "data": {
      "text/plain": [
       "KobertCRF(\n",
       "  (bert): BertModel(\n",
       "    (embeddings): BertEmbeddings(\n",
       "      (word_embeddings): Embedding(8002, 768, padding_idx=1)\n",
       "      (position_embeddings): Embedding(512, 768)\n",
       "      (token_type_embeddings): Embedding(2, 768)\n",
       "      (LayerNorm): LayerNorm((768,), eps=1e-12, elementwise_affine=True)\n",
       "      (dropout): Dropout(p=0.1, inplace=False)\n",
       "    )\n",
       "    (encoder): BertEncoder(\n",
       "      (layer): ModuleList(\n",
       "        (0): BertLayer(\n",
       "          (attention): BertAttention(\n",
       "            (self): BertSelfAttention(\n",
       "              (query): Linear(in_features=768, out_features=768, bias=True)\n",
       "              (key): Linear(in_features=768, out_features=768, bias=True)\n",
       "              (value): Linear(in_features=768, out_features=768, bias=True)\n",
       "              (dropout): Dropout(p=0.1, inplace=False)\n",
       "            )\n",
       "            (output): BertSelfOutput(\n",
       "              (dense): Linear(in_features=768, out_features=768, bias=True)\n",
       "              (LayerNorm): LayerNorm((768,), eps=1e-12, elementwise_affine=True)\n",
       "              (dropout): Dropout(p=0.1, inplace=False)\n",
       "            )\n",
       "          )\n",
       "          (intermediate): BertIntermediate(\n",
       "            (dense): Linear(in_features=768, out_features=3072, bias=True)\n",
       "          )\n",
       "          (output): BertOutput(\n",
       "            (dense): Linear(in_features=3072, out_features=768, bias=True)\n",
       "            (LayerNorm): LayerNorm((768,), eps=1e-12, elementwise_affine=True)\n",
       "            (dropout): Dropout(p=0.1, inplace=False)\n",
       "          )\n",
       "        )\n",
       "        (1): BertLayer(\n",
       "          (attention): BertAttention(\n",
       "            (self): BertSelfAttention(\n",
       "              (query): Linear(in_features=768, out_features=768, bias=True)\n",
       "              (key): Linear(in_features=768, out_features=768, bias=True)\n",
       "              (value): Linear(in_features=768, out_features=768, bias=True)\n",
       "              (dropout): Dropout(p=0.1, inplace=False)\n",
       "            )\n",
       "            (output): BertSelfOutput(\n",
       "              (dense): Linear(in_features=768, out_features=768, bias=True)\n",
       "              (LayerNorm): LayerNorm((768,), eps=1e-12, elementwise_affine=True)\n",
       "              (dropout): Dropout(p=0.1, inplace=False)\n",
       "            )\n",
       "          )\n",
       "          (intermediate): BertIntermediate(\n",
       "            (dense): Linear(in_features=768, out_features=3072, bias=True)\n",
       "          )\n",
       "          (output): BertOutput(\n",
       "            (dense): Linear(in_features=3072, out_features=768, bias=True)\n",
       "            (LayerNorm): LayerNorm((768,), eps=1e-12, elementwise_affine=True)\n",
       "            (dropout): Dropout(p=0.1, inplace=False)\n",
       "          )\n",
       "        )\n",
       "        (2): BertLayer(\n",
       "          (attention): BertAttention(\n",
       "            (self): BertSelfAttention(\n",
       "              (query): Linear(in_features=768, out_features=768, bias=True)\n",
       "              (key): Linear(in_features=768, out_features=768, bias=True)\n",
       "              (value): Linear(in_features=768, out_features=768, bias=True)\n",
       "              (dropout): Dropout(p=0.1, inplace=False)\n",
       "            )\n",
       "            (output): BertSelfOutput(\n",
       "              (dense): Linear(in_features=768, out_features=768, bias=True)\n",
       "              (LayerNorm): LayerNorm((768,), eps=1e-12, elementwise_affine=True)\n",
       "              (dropout): Dropout(p=0.1, inplace=False)\n",
       "            )\n",
       "          )\n",
       "          (intermediate): BertIntermediate(\n",
       "            (dense): Linear(in_features=768, out_features=3072, bias=True)\n",
       "          )\n",
       "          (output): BertOutput(\n",
       "            (dense): Linear(in_features=3072, out_features=768, bias=True)\n",
       "            (LayerNorm): LayerNorm((768,), eps=1e-12, elementwise_affine=True)\n",
       "            (dropout): Dropout(p=0.1, inplace=False)\n",
       "          )\n",
       "        )\n",
       "        (3): BertLayer(\n",
       "          (attention): BertAttention(\n",
       "            (self): BertSelfAttention(\n",
       "              (query): Linear(in_features=768, out_features=768, bias=True)\n",
       "              (key): Linear(in_features=768, out_features=768, bias=True)\n",
       "              (value): Linear(in_features=768, out_features=768, bias=True)\n",
       "              (dropout): Dropout(p=0.1, inplace=False)\n",
       "            )\n",
       "            (output): BertSelfOutput(\n",
       "              (dense): Linear(in_features=768, out_features=768, bias=True)\n",
       "              (LayerNorm): LayerNorm((768,), eps=1e-12, elementwise_affine=True)\n",
       "              (dropout): Dropout(p=0.1, inplace=False)\n",
       "            )\n",
       "          )\n",
       "          (intermediate): BertIntermediate(\n",
       "            (dense): Linear(in_features=768, out_features=3072, bias=True)\n",
       "          )\n",
       "          (output): BertOutput(\n",
       "            (dense): Linear(in_features=3072, out_features=768, bias=True)\n",
       "            (LayerNorm): LayerNorm((768,), eps=1e-12, elementwise_affine=True)\n",
       "            (dropout): Dropout(p=0.1, inplace=False)\n",
       "          )\n",
       "        )\n",
       "        (4): BertLayer(\n",
       "          (attention): BertAttention(\n",
       "            (self): BertSelfAttention(\n",
       "              (query): Linear(in_features=768, out_features=768, bias=True)\n",
       "              (key): Linear(in_features=768, out_features=768, bias=True)\n",
       "              (value): Linear(in_features=768, out_features=768, bias=True)\n",
       "              (dropout): Dropout(p=0.1, inplace=False)\n",
       "            )\n",
       "            (output): BertSelfOutput(\n",
       "              (dense): Linear(in_features=768, out_features=768, bias=True)\n",
       "              (LayerNorm): LayerNorm((768,), eps=1e-12, elementwise_affine=True)\n",
       "              (dropout): Dropout(p=0.1, inplace=False)\n",
       "            )\n",
       "          )\n",
       "          (intermediate): BertIntermediate(\n",
       "            (dense): Linear(in_features=768, out_features=3072, bias=True)\n",
       "          )\n",
       "          (output): BertOutput(\n",
       "            (dense): Linear(in_features=3072, out_features=768, bias=True)\n",
       "            (LayerNorm): LayerNorm((768,), eps=1e-12, elementwise_affine=True)\n",
       "            (dropout): Dropout(p=0.1, inplace=False)\n",
       "          )\n",
       "        )\n",
       "        (5): BertLayer(\n",
       "          (attention): BertAttention(\n",
       "            (self): BertSelfAttention(\n",
       "              (query): Linear(in_features=768, out_features=768, bias=True)\n",
       "              (key): Linear(in_features=768, out_features=768, bias=True)\n",
       "              (value): Linear(in_features=768, out_features=768, bias=True)\n",
       "              (dropout): Dropout(p=0.1, inplace=False)\n",
       "            )\n",
       "            (output): BertSelfOutput(\n",
       "              (dense): Linear(in_features=768, out_features=768, bias=True)\n",
       "              (LayerNorm): LayerNorm((768,), eps=1e-12, elementwise_affine=True)\n",
       "              (dropout): Dropout(p=0.1, inplace=False)\n",
       "            )\n",
       "          )\n",
       "          (intermediate): BertIntermediate(\n",
       "            (dense): Linear(in_features=768, out_features=3072, bias=True)\n",
       "          )\n",
       "          (output): BertOutput(\n",
       "            (dense): Linear(in_features=3072, out_features=768, bias=True)\n",
       "            (LayerNorm): LayerNorm((768,), eps=1e-12, elementwise_affine=True)\n",
       "            (dropout): Dropout(p=0.1, inplace=False)\n",
       "          )\n",
       "        )\n",
       "        (6): BertLayer(\n",
       "          (attention): BertAttention(\n",
       "            (self): BertSelfAttention(\n",
       "              (query): Linear(in_features=768, out_features=768, bias=True)\n",
       "              (key): Linear(in_features=768, out_features=768, bias=True)\n",
       "              (value): Linear(in_features=768, out_features=768, bias=True)\n",
       "              (dropout): Dropout(p=0.1, inplace=False)\n",
       "            )\n",
       "            (output): BertSelfOutput(\n",
       "              (dense): Linear(in_features=768, out_features=768, bias=True)\n",
       "              (LayerNorm): LayerNorm((768,), eps=1e-12, elementwise_affine=True)\n",
       "              (dropout): Dropout(p=0.1, inplace=False)\n",
       "            )\n",
       "          )\n",
       "          (intermediate): BertIntermediate(\n",
       "            (dense): Linear(in_features=768, out_features=3072, bias=True)\n",
       "          )\n",
       "          (output): BertOutput(\n",
       "            (dense): Linear(in_features=3072, out_features=768, bias=True)\n",
       "            (LayerNorm): LayerNorm((768,), eps=1e-12, elementwise_affine=True)\n",
       "            (dropout): Dropout(p=0.1, inplace=False)\n",
       "          )\n",
       "        )\n",
       "        (7): BertLayer(\n",
       "          (attention): BertAttention(\n",
       "            (self): BertSelfAttention(\n",
       "              (query): Linear(in_features=768, out_features=768, bias=True)\n",
       "              (key): Linear(in_features=768, out_features=768, bias=True)\n",
       "              (value): Linear(in_features=768, out_features=768, bias=True)\n",
       "              (dropout): Dropout(p=0.1, inplace=False)\n",
       "            )\n",
       "            (output): BertSelfOutput(\n",
       "              (dense): Linear(in_features=768, out_features=768, bias=True)\n",
       "              (LayerNorm): LayerNorm((768,), eps=1e-12, elementwise_affine=True)\n",
       "              (dropout): Dropout(p=0.1, inplace=False)\n",
       "            )\n",
       "          )\n",
       "          (intermediate): BertIntermediate(\n",
       "            (dense): Linear(in_features=768, out_features=3072, bias=True)\n",
       "          )\n",
       "          (output): BertOutput(\n",
       "            (dense): Linear(in_features=3072, out_features=768, bias=True)\n",
       "            (LayerNorm): LayerNorm((768,), eps=1e-12, elementwise_affine=True)\n",
       "            (dropout): Dropout(p=0.1, inplace=False)\n",
       "          )\n",
       "        )\n",
       "        (8): BertLayer(\n",
       "          (attention): BertAttention(\n",
       "            (self): BertSelfAttention(\n",
       "              (query): Linear(in_features=768, out_features=768, bias=True)\n",
       "              (key): Linear(in_features=768, out_features=768, bias=True)\n",
       "              (value): Linear(in_features=768, out_features=768, bias=True)\n",
       "              (dropout): Dropout(p=0.1, inplace=False)\n",
       "            )\n",
       "            (output): BertSelfOutput(\n",
       "              (dense): Linear(in_features=768, out_features=768, bias=True)\n",
       "              (LayerNorm): LayerNorm((768,), eps=1e-12, elementwise_affine=True)\n",
       "              (dropout): Dropout(p=0.1, inplace=False)\n",
       "            )\n",
       "          )\n",
       "          (intermediate): BertIntermediate(\n",
       "            (dense): Linear(in_features=768, out_features=3072, bias=True)\n",
       "          )\n",
       "          (output): BertOutput(\n",
       "            (dense): Linear(in_features=3072, out_features=768, bias=True)\n",
       "            (LayerNorm): LayerNorm((768,), eps=1e-12, elementwise_affine=True)\n",
       "            (dropout): Dropout(p=0.1, inplace=False)\n",
       "          )\n",
       "        )\n",
       "        (9): BertLayer(\n",
       "          (attention): BertAttention(\n",
       "            (self): BertSelfAttention(\n",
       "              (query): Linear(in_features=768, out_features=768, bias=True)\n",
       "              (key): Linear(in_features=768, out_features=768, bias=True)\n",
       "              (value): Linear(in_features=768, out_features=768, bias=True)\n",
       "              (dropout): Dropout(p=0.1, inplace=False)\n",
       "            )\n",
       "            (output): BertSelfOutput(\n",
       "              (dense): Linear(in_features=768, out_features=768, bias=True)\n",
       "              (LayerNorm): LayerNorm((768,), eps=1e-12, elementwise_affine=True)\n",
       "              (dropout): Dropout(p=0.1, inplace=False)\n",
       "            )\n",
       "          )\n",
       "          (intermediate): BertIntermediate(\n",
       "            (dense): Linear(in_features=768, out_features=3072, bias=True)\n",
       "          )\n",
       "          (output): BertOutput(\n",
       "            (dense): Linear(in_features=3072, out_features=768, bias=True)\n",
       "            (LayerNorm): LayerNorm((768,), eps=1e-12, elementwise_affine=True)\n",
       "            (dropout): Dropout(p=0.1, inplace=False)\n",
       "          )\n",
       "        )\n",
       "        (10): BertLayer(\n",
       "          (attention): BertAttention(\n",
       "            (self): BertSelfAttention(\n",
       "              (query): Linear(in_features=768, out_features=768, bias=True)\n",
       "              (key): Linear(in_features=768, out_features=768, bias=True)\n",
       "              (value): Linear(in_features=768, out_features=768, bias=True)\n",
       "              (dropout): Dropout(p=0.1, inplace=False)\n",
       "            )\n",
       "            (output): BertSelfOutput(\n",
       "              (dense): Linear(in_features=768, out_features=768, bias=True)\n",
       "              (LayerNorm): LayerNorm((768,), eps=1e-12, elementwise_affine=True)\n",
       "              (dropout): Dropout(p=0.1, inplace=False)\n",
       "            )\n",
       "          )\n",
       "          (intermediate): BertIntermediate(\n",
       "            (dense): Linear(in_features=768, out_features=3072, bias=True)\n",
       "          )\n",
       "          (output): BertOutput(\n",
       "            (dense): Linear(in_features=3072, out_features=768, bias=True)\n",
       "            (LayerNorm): LayerNorm((768,), eps=1e-12, elementwise_affine=True)\n",
       "            (dropout): Dropout(p=0.1, inplace=False)\n",
       "          )\n",
       "        )\n",
       "        (11): BertLayer(\n",
       "          (attention): BertAttention(\n",
       "            (self): BertSelfAttention(\n",
       "              (query): Linear(in_features=768, out_features=768, bias=True)\n",
       "              (key): Linear(in_features=768, out_features=768, bias=True)\n",
       "              (value): Linear(in_features=768, out_features=768, bias=True)\n",
       "              (dropout): Dropout(p=0.1, inplace=False)\n",
       "            )\n",
       "            (output): BertSelfOutput(\n",
       "              (dense): Linear(in_features=768, out_features=768, bias=True)\n",
       "              (LayerNorm): LayerNorm((768,), eps=1e-12, elementwise_affine=True)\n",
       "              (dropout): Dropout(p=0.1, inplace=False)\n",
       "            )\n",
       "          )\n",
       "          (intermediate): BertIntermediate(\n",
       "            (dense): Linear(in_features=768, out_features=3072, bias=True)\n",
       "          )\n",
       "          (output): BertOutput(\n",
       "            (dense): Linear(in_features=3072, out_features=768, bias=True)\n",
       "            (LayerNorm): LayerNorm((768,), eps=1e-12, elementwise_affine=True)\n",
       "            (dropout): Dropout(p=0.1, inplace=False)\n",
       "          )\n",
       "        )\n",
       "      )\n",
       "    )\n",
       "    (pooler): BertPooler(\n",
       "      (dense): Linear(in_features=768, out_features=768, bias=True)\n",
       "      (activation): Tanh()\n",
       "    )\n",
       "  )\n",
       "  (dropout): Dropout(p=0.3, inplace=False)\n",
       "  (position_wise_ff): Linear(in_features=768, out_features=8, bias=True)\n",
       "  (crf): CRF(num_tags=8)\n",
       ")"
      ]
     },
     "execution_count": 17,
     "metadata": {},
     "output_type": "execute_result"
    }
   ],
   "source": [
    "device = torch.device('cuda:0')\n",
    "model = KobertCRF(bertmodel, num_classes=num)\n",
    "model.to(device)"
   ]
  },
  {
   "cell_type": "code",
   "execution_count": 18,
   "metadata": {},
   "outputs": [],
   "source": [
    "optimizer = AdamW(model.parameters(), lr=5e-5)"
   ]
  },
  {
   "cell_type": "code",
   "execution_count": 19,
   "metadata": {},
   "outputs": [],
   "source": [
    "label_list = ['O','[UNK]','PDT-B','PDT-I','MOV-B','MOV-I','TRV-B','TRV-I']"
   ]
  },
  {
   "cell_type": "code",
   "execution_count": 20,
   "metadata": {},
   "outputs": [],
   "source": [
    "def compute_f1_pre_rec(labels, preds):\n",
    "\n",
    "    return {\n",
    "        \"accuracy\": accuracy_score(labels, preds),\n",
    "        \"precision\": precision_score(labels, preds, suffix=True),\n",
    "        \"recall\": recall_score(labels, preds, suffix=True),\n",
    "        \"f1\": f1_score(labels, preds, suffix=True)\n",
    "    }\n",
    "\n",
    "def show_report(labels, preds):\n",
    "    return classification_report(labels, preds, suffix=True,digits=4)\n",
    "\n",
    "def F1Metrics(y_true, y_pred):\n",
    "\n",
    "    results = {}\n",
    "\n",
    "    pred_argmax = y_pred\n",
    "    label = np.array(y_true)\n",
    "\n",
    "    slot_label_map = {i: label for i, label in enumerate(label_list)}\n",
    "\n",
    "    out_label_list = [[] for _ in range(label.shape[0])]\n",
    "    preds_list = [[] for _ in range(label.shape[0])]\n",
    "\n",
    "    for i in range(label.shape[0]):\n",
    "        for j in range(label.shape[1]):\n",
    "            if label[i, j] != 1:\n",
    "                out_label_list[i].append(slot_label_map[label[i][j]])\n",
    "                if pred_argmax[i][j] ==1:\n",
    "                    pred_argmax[i][j]=0\n",
    "                preds_list[i].append(slot_label_map[pred_argmax[i][j]])\n",
    "\n",
    "    result = compute_f1_pre_rec(out_label_list, preds_list)\n",
    "    results.update(result)\n",
    "\n",
    "    print(\"********\")\n",
    "    print(\"F1 Score\")\n",
    "    for key in sorted(results.keys()):\n",
    "        print(\"{}, {:.4f}\".format(key, results[key]))\n",
    "    print(\"\\n\" + show_report(out_label_list, preds_list))\n",
    "    print(\"********\")\n",
    "\n",
    "    return f1_score(out_label_list, preds_list, suffix=True)"
   ]
  },
  {
   "cell_type": "code",
   "execution_count": null,
   "metadata": {},
   "outputs": [],
   "source": [
    "max = 0.0\n",
    "\n",
    "for i in range(epochs):\n",
    "  model.train()\n",
    "  y_pred = []\n",
    "  y_true = []\n",
    "\n",
    "  for input_ids_batch, valid_length_batch, segment_ids_batch, y_batch in tqdm(train_loader):\n",
    "    optimizer.zero_grad()\n",
    "    y_batch = y_batch.to(device)\n",
    "    log_likelihood, sequence_of_tags = model(input_ids_batch.to(device), valid_length_batch.to(device), tags=y_batch)\n",
    "    loss = -1 * log_likelihood\n",
    "    loss.backward()\n",
    "    optimizer.step()\n",
    "\n",
    "    total_loss = loss.item()\n",
    "    y_batch = y_batch.cpu().tolist()\n",
    "\n",
    "    y_pred.extend(sequence_of_tags)\n",
    "    y_true.extend(y_batch)\n",
    "\n",
    "  F1Metrics(y_true,y_pred) \n",
    "\n",
    "torch.save(model,\"kobert_crf\")\n"
   ]
  },
  {
   "cell_type": "code",
   "execution_count": null,
   "metadata": {},
   "outputs": [],
   "source": [
    "model.eval()\n",
    "y_pred_test = []\n",
    "y_true_test = []\n",
    "\n",
    "with torch.no_grad():\n",
    "    for input_ids_batch_test, valid_length_test, segment_ids_test, y_batch_test in tqdm(test_loader):\n",
    "        y_batch_test = y_batch_test.to(device)\n",
    "        sequence_of_tags_test = model(input_ids_batch_test.to(device), valid_length_test.to(device))\n",
    "\n",
    "        y_batch_test = y_batch_test.cpu().tolist()\n",
    "\n",
    "        y_pred_test.extend(sequence_of_tags_test)\n",
    "        y_true_test.extend(y_batch_test)\n",
    "\n",
    "    print(\"epoch: \"+str(i+1)+\"/\"+str(epochs))\n",
    "    f1 = F1Metrics(y_true_test,y_pred_test)\n",
    "    f1 = float(f1)"
   ]
  },
  {
   "cell_type": "code",
   "execution_count": 21,
   "metadata": {},
   "outputs": [],
   "source": [
    "model = torch.load(\"kobert_crf\")"
   ]
  },
  {
   "cell_type": "code",
   "execution_count": 22,
   "metadata": {},
   "outputs": [
    {
     "name": "stderr",
     "output_type": "stream",
     "text": [
      "  0%|          | 0/333 [00:00<?, ?it/s]C:\\Users\\user\\anaconda3\\lib\\site-packages\\torchcrf\\__init__.py:305: UserWarning: where received a uint8 condition tensor. This behavior is deprecated and will be removed in a future version of PyTorch. Use a boolean condition instead. (Triggered internally at  ..\\aten\\src\\ATen\\native\\TensorCompare.cpp:255.)\n",
      "  score = torch.where(mask[i].unsqueeze(1), next_score, score)\n",
      "100%|██████████| 333/333 [01:48<00:00,  3.08it/s]\n"
     ]
    },
    {
     "name": "stdout",
     "output_type": "stream",
     "text": [
      "********\n",
      "F1 Score\n",
      "accuracy, 0.8775\n",
      "f1, 0.5231\n",
      "precision, 0.4943\n",
      "recall, 0.5553\n",
      "\n",
      "              precision    recall  f1-score   support\n",
      "\n",
      "         MOV     0.3810    0.4393    0.4081      1104\n",
      "         PDT     0.6053    0.6494    0.6266      2128\n",
      "         TRV     0.2778    0.3665    0.3160       382\n",
      "\n",
      "   micro avg     0.4943    0.5553    0.5231      3614\n",
      "   macro avg     0.4214    0.4851    0.4502      3614\n",
      "weighted avg     0.5022    0.5553    0.5270      3614\n",
      "\n",
      "********\n"
     ]
    },
    {
     "data": {
      "text/plain": [
       "0.523064894448788"
      ]
     },
     "execution_count": 22,
     "metadata": {},
     "output_type": "execute_result"
    }
   ],
   "source": [
    "model.eval()\n",
    "y_pred_test = []\n",
    "y_true_test = []\n",
    "\n",
    "for input_ids_batch_test, valid_length_test, segment_ids_test, y_batch_test in tqdm(test_loader):\n",
    "    y_batch_test = y_batch_test.to(device)\n",
    "    sequence_of_tags_test = model(input_ids_batch_test.to(device), valid_length_test.to(device))\n",
    "\n",
    "    y_batch_test = y_batch_test.cpu().tolist()\n",
    "\n",
    "    y_pred_test.extend(sequence_of_tags_test)\n",
    "    y_true_test.extend(y_batch_test)\n",
    "\n",
    "F1Metrics(y_true_test,y_pred_test)"
   ]
  },
  {
   "cell_type": "code",
   "execution_count": 28,
   "metadata": {},
   "outputs": [],
   "source": [
    "label = ['O','[UNK]','PDT-B','PDT-I','MOV-B','MOV-I','TRV-B','TRV-I']"
   ]
  },
  {
   "cell_type": "code",
   "execution_count": 24,
   "metadata": {},
   "outputs": [],
   "source": [
    "def F1Metrics(y_true, y_pred):\n",
    "    pred_argmax = y_pred\n",
    "    label = np.array(y_true)\n",
    "\n",
    "    slot_label_map = {i: label for i, label in enumerate(label_list)}\n",
    "\n",
    "    out_label_list = [[] for _ in range(label.shape[0])]\n",
    "    preds_list = [[] for _ in range(label.shape[0])]\n",
    "\n",
    "    for i in range(label.shape[0]):\n",
    "        for j in range(label.shape[1]):\n",
    "            if label[i, j] != 1:\n",
    "                out_label_list[i].append(slot_label_map[label[i][j]])\n",
    "                if pred_argmax[i][j] ==1:\n",
    "                    pred_argmax[i][j]=0\n",
    "                preds_list[i].append(slot_label_map[pred_argmax[i][j]])\n",
    "    \n",
    "    return out_label_list, preds_list"
   ]
  },
  {
   "cell_type": "code",
   "execution_count": 25,
   "metadata": {},
   "outputs": [],
   "source": [
    "y_true_test, y_pred_test = F1Metrics(y_true_test, y_pred_test)"
   ]
  },
  {
   "cell_type": "code",
   "execution_count": 40,
   "metadata": {},
   "outputs": [],
   "source": [
    "confusion_sum = [[0 for col in range(len(label))] for row in range(len(label))]"
   ]
  },
  {
   "cell_type": "code",
   "execution_count": 41,
   "metadata": {},
   "outputs": [],
   "source": [
    "from sklearn.metrics import confusion_matrix\n",
    "\n",
    "for i in range(len(y_true_test)):\n",
    "    confusion_sum += confusion_matrix(y_true_test[i], y_pred_test[i], labels=label)"
   ]
  },
  {
   "cell_type": "code",
   "execution_count": 42,
   "metadata": {},
   "outputs": [],
   "source": [
    "import matplotlib.pyplot as plt\n",
    "import seaborn as sns"
   ]
  },
  {
   "cell_type": "code",
   "execution_count": 43,
   "metadata": {},
   "outputs": [],
   "source": [
    "confusion_sum = np.delete(confusion_sum, 1, axis = 0)\n",
    "confusion_sum = np.delete(confusion_sum, 1, axis = 1)"
   ]
  },
  {
   "cell_type": "code",
   "execution_count": 44,
   "metadata": {},
   "outputs": [
    {
     "data": {
      "text/plain": [
       "array([[79801,   439,  2657,   320,  2067,    87,   629],\n",
       "       [  431,  1618,   110,     7,     1,    25,     1],\n",
       "       [ 2536,   182, 10107,     1,    46,     1,   119],\n",
       "       [  277,    21,     4,   617,   102,     4,     1],\n",
       "       [ 1933,    12,   219,   148,  5404,     0,    30],\n",
       "       [  138,    27,     2,     8,     1,   150,    23],\n",
       "       [ 1176,    10,   234,     4,   105,    24,  1297]], dtype=int64)"
      ]
     },
     "execution_count": 44,
     "metadata": {},
     "output_type": "execute_result"
    }
   ],
   "source": [
    "confusion_sum"
   ]
  },
  {
   "cell_type": "code",
   "execution_count": 45,
   "metadata": {},
   "outputs": [],
   "source": [
    "label = ['O','PDT-B','PDT-I','MOV-B','MOV-I','TRV-B','TRV-I']"
   ]
  },
  {
   "cell_type": "code",
   "execution_count": 46,
   "metadata": {},
   "outputs": [],
   "source": [
    "import sklearn\n",
    "from sklearn.preprocessing import *\n",
    "\n",
    "confusion_sum=MinMaxScaler().fit_transform(confusion_sum.T)"
   ]
  },
  {
   "cell_type": "code",
   "execution_count": 47,
   "metadata": {},
   "outputs": [
    {
     "data": {
      "image/png": "[encoded data removed]",
      "text/plain": [
       "<Figure size 640x480 with 2 Axes>"
      ]
     },
     "metadata": {},
     "output_type": "display_data"
    }
   ],
   "source": [
    "sns.heatmap(confusion_sum.T, annot=True,cmap='Blues',xticklabels=label, yticklabels=label) #숫자 출력\n",
    "sns.set(font_scale=0.7)\n",
    "plt.show()  "
   ]
  }
 ],
 "metadata": {
  "kernelspec": {
   "display_name": "Python 3.8.3 ('base')",
   "language": "python",
   "name": "python3"
  },
  "language_info": {
   "codemirror_mode": {
    "name": "ipython",
    "version": 3
   },
   "file_extension": ".py",
   "mimetype": "text/x-python",
   "name": "python",
   "nbconvert_exporter": "python",
   "pygments_lexer": "ipython3",
   "version": "3.8.3"
  },
  "orig_nbformat": 4,
  "vscode": {
   "interpreter": {
    "hash": "a077222d77dfe082b8f1dd562ad70e458ac2ab76993a0b248ab0476e32e9e8dd"
   }
  }
 },
 "nbformat": 4,
 "nbformat_minor": 2
}
